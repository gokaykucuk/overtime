{
 "cells": [
  {
   "cell_type": "code",
   "execution_count": null,
   "metadata": {},
   "outputs": [],
   "source": [
    "!pip install pandas"
   ]
  },
  {
   "cell_type": "markdown",
   "metadata": {
    "collapsed": false
   },
   "source": [
    "# Overtime Calculator\n",
    "\n",
    "Set-up the following variables to reflect your working hours."
   ]
  },
  {
   "cell_type": "code",
   "execution_count": null,
   "metadata": {},
   "outputs": [],
   "source": [
    "UTC_DIFF = 1\n",
    "WORKING_HOURS = [7,8,9,10,11,12,13,14,15,16,17,18]\n",
    "WORKING_DAYS = [0,1,2,3,4] # 0-> Monday\n",
    "EXCEPT_BETWEEN = [] # Use this for extraordinary situations. Ex, you had a week long extra vacation so you worked more in this time for paying it back etc.\n",
    "LOCAL_WORKING_HOURS = list(map(lambda x: x+UTC_DIFF, WORKING_HOURS))"
   ]
  },
  {
   "cell_type": "code",
   "execution_count": null,
   "metadata": {},
   "outputs": [],
   "source": [
    "PATH = \"/Users/gokaykucuk/concular/concore-django\""
   ]
  },
  {
   "cell_type": "code",
   "execution_count": null,
   "metadata": {},
   "outputs": [],
   "source": [
    "!git --git-dir=$PATH/.git log --reflog --pretty=format:%aI_SEPERATOR_%ae > log.csv"
   ]
  },
  {
   "cell_type": "code",
   "execution_count": null,
   "metadata": {
    "pycharm": {
     "is_executing": true
    }
   },
   "outputs": [],
   "source": [
    "open(\"log_with_headers.csv\", \"w\").write(\"time_SEPERATOR_email\\n\" + open(\"log.csv\").read())"
   ]
  },
  {
   "cell_type": "code",
   "execution_count": null,
   "metadata": {},
   "outputs": [],
   "source": [
    "import pandas as pd"
   ]
  },
  {
   "cell_type": "code",
   "execution_count": null,
   "metadata": {
    "pycharm": {
     "is_executing": true
    }
   },
   "outputs": [],
   "source": [
    "git_log_df = pd.read_csv(\"log_with_headers.csv\", sep=\"_SEPERATOR_\")"
   ]
  },
  {
   "cell_type": "code",
   "execution_count": null,
   "metadata": {
    "pycharm": {
     "is_executing": true
    }
   },
   "outputs": [],
   "source": [
    "git_log_df['time']=pd.to_datetime(git_log_df['time'], utc=True)\n",
    "git_log_df.set_index(\"time\")"
   ]
  },
  {
   "cell_type": "markdown",
   "metadata": {
    "collapsed": false
   },
   "source": [
    "# Setup Working Hours\n",
    "\n",
    "Setup the working hours and days. Also setup the timezone difference from UTC with your local timezone."
   ]
  },
  {
   "cell_type": "code",
   "execution_count": null,
   "metadata": {},
   "outputs": [],
   "source": [
    "git_log_df['day_of_week'] = git_log_df['time'].dt.dayofweek\n",
    "git_log_df['hour_of_day'] = git_log_df['time'].dt.hour\n",
    "git_log_df['date'] = git_log_df['time'].dt.date"
   ]
  },
  {
   "cell_type": "code",
   "execution_count": null,
   "metadata": {
    "pycharm": {
     "is_executing": true
    }
   },
   "outputs": [],
   "source": [
    "git_log_df"
   ]
  },
  {
   "cell_type": "code",
   "execution_count": null,
   "metadata": {},
   "outputs": [],
   "source": [
    "git_log_df['overtime_day'] = ~git_log_df['day_of_week'].isin(WORKING_DAYS)\n",
    "git_log_df['overtime_hour'] = ~git_log_df['hour_of_day'].isin(WORKING_HOURS)"
   ]
  },
  {
   "cell_type": "code",
   "execution_count": null,
   "metadata": {},
   "outputs": [],
   "source": [
    "email_filter = \"gokay\""
   ]
  },
  {
   "cell_type": "code",
   "execution_count": null,
   "metadata": {},
   "outputs": [],
   "source": [
    "personal_timesheet_df = git_log_df[git_log_df[\"email\"].str.contains(email_filter)]"
   ]
  },
  {
   "cell_type": "code",
   "execution_count": null,
   "metadata": {
    "pycharm": {
     "is_executing": true
    }
   },
   "outputs": [],
   "source": [
    "personal_timesheet_df"
   ]
  },
  {
   "cell_type": "markdown",
   "metadata": {
    "collapsed": false
   },
   "source": [
    "# Calculate Overtime for Off Days"
   ]
  },
  {
   "cell_type": "code",
   "execution_count": null,
   "metadata": {},
   "outputs": [],
   "source": [
    "overtime_off_days_df = personal_timesheet_df[personal_timesheet_df[\"overtime_day\"] == True]"
   ]
  },
  {
   "cell_type": "code",
   "execution_count": null,
   "metadata": {},
   "outputs": [],
   "source": [
    "overtime_days_off_series = overtime_off_days_df.groupby(\"date\", group_keys=True).apply(lambda x: (x[\"hour_of_day\"].max() - x[\"hour_of_day\"].min()+1))"
   ]
  },
  {
   "cell_type": "code",
   "execution_count": null,
   "metadata": {
    "pycharm": {
     "is_executing": true
    }
   },
   "outputs": [],
   "source": [
    "overtime_days_off_series"
   ]
  },
  {
   "cell_type": "code",
   "execution_count": null,
   "metadata": {},
   "outputs": [],
   "source": [
    "overtime_days_off_series.sum()"
   ]
  },
  {
   "cell_type": "markdown",
   "metadata": {
    "collapsed": false
   },
   "source": [
    "# Calculate Overtime for Work Days"
   ]
  },
  {
   "cell_type": "code",
   "execution_count": null,
   "metadata": {},
   "outputs": [],
   "source": [
    "overtime_work_days_df = overtime_days_df = personal_timesheet_df[(personal_timesheet_df[\"overtime_day\"] == False) & (personal_timesheet_df[\"overtime_hour\"] == True)]"
   ]
  },
  {
   "cell_type": "code",
   "execution_count": null,
   "metadata": {},
   "outputs": [],
   "source": [
    "overtime_work_days_df"
   ]
  },
  {
   "cell_type": "code",
   "execution_count": null,
   "metadata": {},
   "outputs": [],
   "source": [
    "rough_calculation_series = overtime_work_days_df.groupby(\"date\", group_keys=True).apply(lambda x: (x[\"hour_of_day\"].max() - x[\"hour_of_day\"].min()+1))"
   ]
  },
  {
   "cell_type": "code",
   "execution_count": null,
   "metadata": {},
   "outputs": [],
   "source": [
    "rough_calculation_series = rough_calculation_series[rough_calculation_series > 10] - 10"
   ]
  },
  {
   "cell_type": "code",
   "execution_count": null,
   "metadata": {},
   "outputs": [],
   "source": [
    "rough_calculation_series.sum()"
   ]
  },
  {
   "cell_type": "code",
   "execution_count": null,
   "metadata": {},
   "outputs": [],
   "source": []
  }
 ],
 "metadata": {
  "kernelspec": {
   "display_name": "Python 3",
   "language": "python",
   "name": "python3"
  },
  "language_info": {
   "codemirror_mode": {
    "name": "ipython",
    "version": 2
   },
   "file_extension": ".py",
   "mimetype": "text/x-python",
   "name": "python",
   "nbconvert_exporter": "python",
   "pygments_lexer": "ipython2",
   "version": "2.7.6"
  }
 },
 "nbformat": 4,
 "nbformat_minor": 0
}
